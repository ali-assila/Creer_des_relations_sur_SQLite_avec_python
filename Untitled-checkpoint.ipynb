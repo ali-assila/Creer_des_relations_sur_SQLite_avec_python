{
 "cells": [
  {
   "cell_type": "code",
   "execution_count": 1,
   "id": "23710437",
   "metadata": {},
   "outputs": [],
   "source": [
    "import sqlite3\n",
    "connexion = sqlite3.connect('nominations.db')"
   ]
  },
  {
   "cell_type": "code",
   "execution_count": 3,
   "id": "75e8b22e",
   "metadata": {},
   "outputs": [
    {
     "data": {
      "text/plain": [
       "[(0, 'Year', 'INTEGER', 0, None, 0),\n",
       " (1, 'Category', 'TEXT', 0, None, 0),\n",
       " (2, 'Nominee', 'TEXT', 0, None, 0),\n",
       " (3, 'Won', 'INTEGER', 0, None, 0),\n",
       " (4, 'Movie', 'TEXT', 0, None, 0),\n",
       " (5, 'Character', 'TEXT', 0, None, 0)]"
      ]
     },
     "execution_count": 3,
     "metadata": {},
     "output_type": "execute_result"
    }
   ],
   "source": [
    "connexion.execute('pragma table_info(nominations)').fetchall()"
   ]
  },
  {
   "cell_type": "code",
   "execution_count": 6,
   "id": "61e41945",
   "metadata": {},
   "outputs": [
    {
     "name": "stdout",
     "output_type": "stream",
     "text": [
      "(2010, 'Actor -- Leading Role', 'Javier Bardem', 0, 'Biutiful', 'Uxbal')\n",
      "(2010, 'Actor -- Leading Role', 'Jeff Bridges', 0, 'True Grit', 'Rooster Cogburn')\n",
      "(2010, 'Actor -- Leading Role', 'Jesse Eisenberg', 0, 'The Social Network', 'Mark Zuckerberg')\n",
      "(2010, 'Actor -- Leading Role', 'Colin Firth', 1, \"The King's Speech\", 'King George VI')\n",
      "(2010, 'Actor -- Leading Role', 'James Franco', 0, '127 Hours', 'Aron Ralston')\n",
      "(2010, 'Actor -- Supporting Role', 'Christian Bale', 1, 'The Fighter', 'Dicky Eklund')\n",
      "(2010, 'Actor -- Supporting Role', 'John Hawkes', 0, \"Winter's Bone\", 'Teardrop')\n",
      "(2010, 'Actor -- Supporting Role', 'Jeremy Renner', 0, 'The Town', 'James Coughlin')\n",
      "(2010, 'Actor -- Supporting Role', 'Mark Ruffalo', 0, 'The Kids Are All Right', 'Paul')\n",
      "(2010, 'Actor -- Supporting Role', 'Geoffrey Rush', 0, \"The King's Speech\", 'Lionel Logue')\n"
     ]
    }
   ],
   "source": [
    "for row in connexion.execute('select * from nominations limit 10;').fetchall():\n",
    "    print(row)"
   ]
  },
  {
   "cell_type": "markdown",
   "id": "ae7aa73a",
   "metadata": {},
   "source": [
    "# Créer la table ceremonies"
   ]
  },
  {
   "cell_type": "code",
   "execution_count": 8,
   "id": "df7d9318",
   "metadata": {},
   "outputs": [
    {
     "data": {
      "text/plain": [
       "(2000, 'Billy Crystal')"
      ]
     },
     "execution_count": 8,
     "metadata": {},
     "output_type": "execute_result"
    }
   ],
   "source": [
    "# executemany ()\n",
    "\n",
    "(2010, \"Steve Martin\"),\n",
    "(2009, \"Hugh Jackman\"),\n",
    "(2008, \"Jon Stewart\"),\n",
    "(2007, \"Ellen DeGeneres\"),\n",
    "(2006, \"Jon Stewart\"),\n",
    "(2005, \"Chris Rock\"),\n",
    "(2004, \"Billy Crystal\"),\n",
    "(2003, \"Steve Martin\"),\n",
    "(2002, \"Whoopi Goldberg\"),\n",
    "(2001, \"Steve Martin\"),\n",
    "(2000, \"Billy Crystal\")\n"
   ]
  },
  {
   "cell_type": "code",
   "execution_count": 9,
   "id": "d1cd7aa5",
   "metadata": {},
   "outputs": [
    {
     "data": {
      "text/plain": [
       "[]"
      ]
     },
     "execution_count": 9,
     "metadata": {},
     "output_type": "execute_result"
    }
   ],
   "source": [
    "connexion.execute('create table ceremonies(id integer primary key, Year integer , Host text);').fetchall()"
   ]
  },
  {
   "cell_type": "code",
   "execution_count": 10,
   "id": "a9fdbeb5",
   "metadata": {},
   "outputs": [
    {
     "data": {
      "text/plain": [
       "[('nominations',), ('ceremonies',)]"
      ]
     },
     "execution_count": 10,
     "metadata": {},
     "output_type": "execute_result"
    }
   ],
   "source": [
    "connexion.execute('select name from sqlite_master where type= \"table\"').fetchall()"
   ]
  },
  {
   "cell_type": "code",
   "execution_count": 11,
   "id": "d32db0fe",
   "metadata": {},
   "outputs": [
    {
     "data": {
      "text/plain": [
       "[(0, 'id', 'INTEGER', 0, None, 1),\n",
       " (1, 'Year', 'INTEGER', 0, None, 0),\n",
       " (2, 'Host', 'TEXT', 0, None, 0)]"
      ]
     },
     "execution_count": 11,
     "metadata": {},
     "output_type": "execute_result"
    }
   ],
   "source": [
    "connexion.execute('pragma table_info(ceremonies);').fetchall()"
   ]
  },
  {
   "cell_type": "code",
   "execution_count": 13,
   "id": "49a5ddab",
   "metadata": {},
   "outputs": [],
   "source": [
    "year_hosts= [\n",
    "(2010, \"Steve Martin\"),\n",
    "(2009, \"Hugh Jackman\"),\n",
    "(2008, \"Jon Stewart\"),\n",
    "(2007, \"Ellen DeGeneres\"),\n",
    "(2006, \"Jon Stewart\"),\n",
    "(2005, \"Chris Rock\"),\n",
    "(2004, \"Billy Crystal\"),\n",
    "(2003, \"Steve Martin\"),\n",
    "(2002, \"Whoopi Goldberg\"),\n",
    "(2001, \"Steve Martin\"),\n",
    "(2000, \"Billy Crystal\")\n",
    "]"
   ]
  },
  {
   "cell_type": "code",
   "execution_count": 14,
   "id": "3fbc5c7b",
   "metadata": {},
   "outputs": [],
   "source": [
    "insert_query= 'insert into ceremonies(Year, Host) values(?,?);'"
   ]
  },
  {
   "cell_type": "code",
   "execution_count": 15,
   "id": "c4ad6e8c",
   "metadata": {},
   "outputs": [
    {
     "data": {
      "text/plain": [
       "[]"
      ]
     },
     "execution_count": 15,
     "metadata": {},
     "output_type": "execute_result"
    }
   ],
   "source": [
    "connexion.executemany(insert_query,year_hosts).fetchall()"
   ]
  },
  {
   "cell_type": "code",
   "execution_count": 16,
   "id": "a00b67e9",
   "metadata": {},
   "outputs": [],
   "source": [
    "connexion.commit()"
   ]
  },
  {
   "cell_type": "code",
   "execution_count": 18,
   "id": "c4baa482",
   "metadata": {},
   "outputs": [
    {
     "data": {
      "text/plain": [
       "[(1, 2010, 'Steve Martin'),\n",
       " (2, 2009, 'Hugh Jackman'),\n",
       " (3, 2008, 'Jon Stewart'),\n",
       " (4, 2007, 'Ellen DeGeneres'),\n",
       " (5, 2006, 'Jon Stewart'),\n",
       " (6, 2005, 'Chris Rock'),\n",
       " (7, 2004, 'Billy Crystal'),\n",
       " (8, 2003, 'Steve Martin'),\n",
       " (9, 2002, 'Whoopi Goldberg'),\n",
       " (10, 2001, 'Steve Martin')]"
      ]
     },
     "execution_count": 18,
     "metadata": {},
     "output_type": "execute_result"
    }
   ],
   "source": [
    "connexion.execute('select * from ceremonies limit 10;').fetchall()"
   ]
  },
  {
   "cell_type": "markdown",
   "id": "fa143d13",
   "metadata": {},
   "source": [
    "# Contraintes de clé externe"
   ]
  },
  {
   "cell_type": "code",
   "execution_count": 19,
   "id": "354bf041",
   "metadata": {},
   "outputs": [
    {
     "data": {
      "text/plain": [
       "[]"
      ]
     },
     "execution_count": 19,
     "metadata": {},
     "output_type": "execute_result"
    }
   ],
   "source": [
    "connexion.execute('pragma foreign_keys = on;').fetchall()"
   ]
  },
  {
   "cell_type": "markdown",
   "id": "b61dcdf7",
   "metadata": {},
   "source": [
    "# Relation one-to-many avec la table nominations"
   ]
  },
  {
   "cell_type": "code",
   "execution_count": 35,
   "id": "c40d2a01",
   "metadata": {},
   "outputs": [
    {
     "ename": "OperationalError",
     "evalue": "table nominations_two already exists",
     "output_type": "error",
     "traceback": [
      "\u001b[1;31m---------------------------------------------------------------------------\u001b[0m",
      "\u001b[1;31mOperationalError\u001b[0m                          Traceback (most recent call last)",
      "\u001b[1;32m~\\AppData\\Local\\Temp\\ipykernel_8392\\2886802698.py\u001b[0m in \u001b[0;36m<module>\u001b[1;34m\u001b[0m\n\u001b[1;32m----> 1\u001b[1;33m \u001b[0mconnexion\u001b[0m\u001b[1;33m.\u001b[0m\u001b[0mexecute\u001b[0m\u001b[1;33m(\u001b[0m\u001b[1;34m'create table nominations_two(id integer primary key, category text, nominee text, movie text, character text, won integer, ceremony_id integer references ceremonies(id) );'\u001b[0m\u001b[1;33m)\u001b[0m\u001b[1;33m.\u001b[0m\u001b[0mfetchall\u001b[0m\u001b[1;33m(\u001b[0m\u001b[1;33m)\u001b[0m\u001b[1;33m\u001b[0m\u001b[1;33m\u001b[0m\u001b[0m\n\u001b[0m",
      "\u001b[1;31mOperationalError\u001b[0m: table nominations_two already exists"
     ]
    }
   ],
   "source": [
    "connexion.execute('create table nominations_two(id integer primary key, category text, nominee text, movie text, character text, won integer, ceremony_id integer references ceremonies(id) );').fetchall()"
   ]
  },
  {
   "cell_type": "code",
   "execution_count": 36,
   "id": "31a10fc9",
   "metadata": {},
   "outputs": [
    {
     "data": {
      "text/plain": [
       "[(0, 'id', 'INTEGER', 0, None, 1),\n",
       " (1, 'category', 'TEXT', 0, None, 0),\n",
       " (2, 'nominee', 'TEXT', 0, None, 0),\n",
       " (3, 'movie', 'TEXT', 0, None, 0),\n",
       " (4, 'character', 'TEXT', 0, None, 0),\n",
       " (5, 'won', 'INTEGER', 0, None, 0),\n",
       " (6, 'ceremony_id', 'INTEGER', 0, None, 0)]"
      ]
     },
     "execution_count": 36,
     "metadata": {},
     "output_type": "execute_result"
    }
   ],
   "source": [
    "connexion.execute('pragma table_info(nominations_two);').fetchall()"
   ]
  },
  {
   "cell_type": "code",
   "execution_count": 37,
   "id": "18b2a425",
   "metadata": {},
   "outputs": [],
   "source": [
    "joined_nominations_query =\"SELECT nominations.Category, nominations.Nominee, nominations.Movie, nominations.Character, nominations.Won, ceremonies.id FROM nominations INNER JOIN ceremonies on nominations.Year == ceremonies.Year;\"\n",
    "joined_nominations = connexion.execute(joined_nominations_query).fetchall()"
   ]
  },
  {
   "cell_type": "code",
   "execution_count": 38,
   "id": "feb010a7",
   "metadata": {},
   "outputs": [],
   "source": [
    "insert_nominations_two= 'insert into nominations_two values (null, ?,?,?,?,?,?);'"
   ]
  },
  {
   "cell_type": "code",
   "execution_count": 39,
   "id": "39d8262c",
   "metadata": {},
   "outputs": [],
   "source": [
    "connexion.executemany(insert_nominations_two,joined_nominations).fetchall()\n",
    "connexion.commit()"
   ]
  },
  {
   "cell_type": "markdown",
   "id": "da6b916f",
   "metadata": {},
   "source": [
    "# Supprimer et renommer des tables"
   ]
  },
  {
   "cell_type": "code",
   "execution_count": 50,
   "id": "c8cbb2fc",
   "metadata": {},
   "outputs": [],
   "source": [
    "#connexion.execute('DROP TABLE nominations;').fetchall()"
   ]
  },
  {
   "cell_type": "code",
   "execution_count": 44,
   "id": "079fa25e",
   "metadata": {},
   "outputs": [],
   "source": [
    "#connexion.execute('ALTER TABLE nominations_two RENAME TO nominations; ').fetchall()"
   ]
  },
  {
   "cell_type": "code",
   "execution_count": 46,
   "id": "cc71daec",
   "metadata": {},
   "outputs": [],
   "source": [
    "# connexion.execute('select name from sqlite_master where type=\"table\";').fetchall()"
   ]
  },
  {
   "cell_type": "markdown",
   "id": "14d9e9bc",
   "metadata": {},
   "source": [
    "# Créer une join table"
   ]
  },
  {
   "cell_type": "code",
   "execution_count": 48,
   "id": "d852d45c",
   "metadata": {},
   "outputs": [
    {
     "data": {
      "text/plain": [
       "<sqlite3.Cursor at 0x225545939d0>"
      ]
     },
     "execution_count": 48,
     "metadata": {},
     "output_type": "execute_result"
    }
   ],
   "source": [
    "movies = 'create table movies(id integer primary key, movie text);'\n",
    "actors = 'create table actors(id integer primary key, actor text);'\n",
    "movies_actors = 'create table movies_actors(id integer primary key, movie_id integer references movies(id),actor_id integer references actors(id));'\n",
    "connexion.execute(movies)\n",
    "connexion.execute(actors)\n",
    "connexion.execute(movies_actors)"
   ]
  },
  {
   "cell_type": "code",
   "execution_count": 51,
   "id": "78f55d0f",
   "metadata": {},
   "outputs": [
    {
     "data": {
      "text/plain": [
       "[('nominations',),\n",
       " ('ceremonies',),\n",
       " ('nominations_two',),\n",
       " ('movies',),\n",
       " ('actors',),\n",
       " ('movies_actors',)]"
      ]
     },
     "execution_count": 51,
     "metadata": {},
     "output_type": "execute_result"
    }
   ],
   "source": [
    "connexion.execute('select name from sqlite_master where type=\"table\";').fetchall()"
   ]
  },
  {
   "cell_type": "code",
   "execution_count": 52,
   "id": "7a6c6aa8",
   "metadata": {},
   "outputs": [
    {
     "data": {
      "text/plain": [
       "[(0, 0, 'actors', 'actor_id', 'id', 'NO ACTION', 'NO ACTION', 'NONE'),\n",
       " (1, 0, 'movies', 'movie_id', 'id', 'NO ACTION', 'NO ACTION', 'NONE')]"
      ]
     },
     "execution_count": 52,
     "metadata": {},
     "output_type": "execute_result"
    }
   ],
   "source": [
    "connexion.execute('pragma foreign_key_list(movies_actors);').fetchall()"
   ]
  },
  {
   "cell_type": "code",
   "execution_count": null,
   "id": "4e87b372",
   "metadata": {},
   "outputs": [],
   "source": []
  }
 ],
 "metadata": {
  "kernelspec": {
   "display_name": "Python 3 (ipykernel)",
   "language": "python",
   "name": "python3"
  },
  "language_info": {
   "codemirror_mode": {
    "name": "ipython",
    "version": 3
   },
   "file_extension": ".py",
   "mimetype": "text/x-python",
   "name": "python",
   "nbconvert_exporter": "python",
   "pygments_lexer": "ipython3",
   "version": "3.9.13"
  }
 },
 "nbformat": 4,
 "nbformat_minor": 5
}
